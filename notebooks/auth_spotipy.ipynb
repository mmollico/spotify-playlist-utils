{
 "cells": [
  {
   "cell_type": "code",
   "execution_count": 31,
   "metadata": {},
   "outputs": [],
   "source": [
    "import spotipy \n",
    "from spotipy import util\n",
    "import pandas as pd"
   ]
  },
  {
   "cell_type": "code",
   "execution_count": 21,
   "metadata": {},
   "outputs": [],
   "source": [
    "scope = 'user-library-read'\n",
    "redirect_uri = 'http://127.0.0.1:8080/'\n",
    "\n",
    "token = util.prompt_for_user_token(\n",
    "    scope=scope,\n",
    "    redirect_uri=redirect_uri\n",
    ")\n",
    "\n",
    "sp = spotipy.Spotify(auth=token)\n",
    "\n",
    "playlists = sp.current_user_playlists()"
   ]
  },
  {
   "cell_type": "code",
   "execution_count": 42,
   "metadata": {},
   "outputs": [],
   "source": [
    "playlists_list = []\n",
    "for playlist in playlists['items']:\n",
    "    playlists_list.append([playlist['name'], playlist['id']])\n",
    "\n",
    "playlist_df = pd.DataFrame(playlists_list, columns=['name', 'id'])"
   ]
  },
  {
   "cell_type": "code",
   "execution_count": 33,
   "metadata": {},
   "outputs": [],
   "source": [
    "res = sp.playlist_tracks('0rDJb2DocnKkYlQ4fcYTY0')\n",
    "\n",
    "track_list = []\n",
    "\n",
    "for item in res['items']:\n",
    "    artists = []\n",
    "    for artist in item['track']['artists']:\n",
    "        artists.append(artist['name'])\n",
    "    track_list.append([item['track']['name'], artists])\n",
    "\n",
    "tracks_df = pd.DataFrame(track_list, columns=['song_name', 'artists'])"
   ]
  },
  {
   "cell_type": "code",
   "execution_count": 50,
   "metadata": {},
   "outputs": [
    {
     "data": {
      "text/plain": [
       "'1QHHuV4l8MVIEj0QB1gICY'"
      ]
     },
     "execution_count": 50,
     "metadata": {},
     "output_type": "execute_result"
    }
   ],
   "source": [
    "playlist_df[playlist_df['name'] == 'Boom Bap']['id'].item()"
   ]
  }
 ],
 "metadata": {
  "interpreter": {
   "hash": "c87c9570deca7fb89ce3836e714c2bd07b640c9e8d2f103746fb1738b2cc88a3"
  },
  "kernelspec": {
   "display_name": "Python 3.9.7 64-bit ('spotify_app': conda)",
   "language": "python",
   "name": "python3"
  },
  "language_info": {
   "codemirror_mode": {
    "name": "ipython",
    "version": 3
   },
   "file_extension": ".py",
   "mimetype": "text/x-python",
   "name": "python",
   "nbconvert_exporter": "python",
   "pygments_lexer": "ipython3",
   "version": "3.9.7"
  },
  "orig_nbformat": 4
 },
 "nbformat": 4,
 "nbformat_minor": 2
}
